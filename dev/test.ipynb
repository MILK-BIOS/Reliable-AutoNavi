{
 "cells": [
  {
   "cell_type": "code",
   "execution_count": null,
   "id": "593cf2c2",
   "metadata": {},
   "outputs": [
    {
     "name": "stdout",
     "output_type": "stream",
     "text": [
      "Downloading https://github.com/ultralytics/assets/releases/download/v8.3.0/yolov8l-world.pt to 'yolov8l-world.pt'...\n"
     ]
    }
   ],
   "source": [
    "import cv2\n",
    "from ultralytics import YOLO\n",
    "\n",
    "\n",
    "# Initialize a YOLO-World model\n",
    "image = cv2.imread(\"/private/workspace/fhs/AN/test.jpg\")\n",
    "model = YOLO(\"yolov8l-world.pt\")  # or choose yolov8m/l-world.pt\n",
    "\n",
    "# Define custom classes\n",
    "model.set_classes([\"Person\"])\n",
    "\n",
    "# Execute prediction for specified categories on an image\n",
    "results = model.predict(\"/private/workspace/fhs/AN/test.jpg\")\n",
    "\n",
    "# 遍历检测结果\n",
    "for box in results.xyxy[0]:\n",
    "    x1, y1, x2, y2 = box[:4].int().tolist()\n",
    "    roi = image[y1:y2, x1:x2]\n",
    "    \n",
    "    # 预测深度图\n",
    "    depth_map = depth_model(roi)\n",
    "    center_depth = depth_map.mean()  # 取中心区域平均深度\n",
    "    \n",
    "    print(f\"目标ID: {track_id}, 深度: {center_depth:.2f}米\")\n",
    "# Show results\n",
    "results[0].show()"
   ]
  }
 ],
 "metadata": {
  "kernelspec": {
   "display_name": "btron",
   "language": "python",
   "name": "python3"
  },
  "language_info": {
   "codemirror_mode": {
    "name": "ipython",
    "version": 3
   },
   "file_extension": ".py",
   "mimetype": "text/x-python",
   "name": "python",
   "nbconvert_exporter": "python",
   "pygments_lexer": "ipython3",
   "version": "3.12.9"
  }
 },
 "nbformat": 4,
 "nbformat_minor": 5
}
